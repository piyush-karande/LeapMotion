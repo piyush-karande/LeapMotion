{
 "cells": [
  {
   "cell_type": "code",
   "execution_count": 1,
   "metadata": {
    "collapsed": true
   },
   "outputs": [],
   "source": [
    "import numpy as np\n",
    "from scipy import ndimage\n",
    "\n",
    "import matplotlib.pyplot as plt\n",
    "\n",
    "from scipy.ndimage import gaussian_filter as ga"
   ]
  },
  {
   "cell_type": "code",
   "execution_count": 2,
   "metadata": {
    "collapsed": false
   },
   "outputs": [],
   "source": [
    "def pol2cart(r,theta):\n",
    "    temp = np.multiply(r,np.exp(np.multiply(1j,theta)))\n",
    "    return temp.real, temp.imag\n",
    "    \n",
    "def cart2pol(x,y):\n",
    "    r = np.sqrt(np.power(x,2) + np.power(y,2))\n",
    "    theta = np.arctan2(y, x)\n",
    "    return r, theta"
   ]
  },
  {
   "cell_type": "code",
   "execution_count": 3,
   "metadata": {
    "collapsed": false
   },
   "outputs": [],
   "source": [
    "scores = np.array([6,13,4,18,1,20,5,12,9,14,11,8,16,7,19,3,17,2,15,10])"
   ]
  },
  {
   "cell_type": "code",
   "execution_count": 4,
   "metadata": {
    "collapsed": false
   },
   "outputs": [],
   "source": [
    "sectors = np.arange(-np.pi/20, np.pi*2+np.pi/20, np.pi/10)"
   ]
  },
  {
   "cell_type": "code",
   "execution_count": 6,
   "metadata": {
    "collapsed": false
   },
   "outputs": [],
   "source": [
    "inner_bullseye_diam = 12.7\n",
    "outer_bullseye_diam = 31.8\n",
    "\n",
    "inner_triple_diam = 194.8\n",
    "outer_triple_diam = 214.8\n",
    "\n",
    "inner_double_diam = 320.0\n",
    "outer_double_diam = 340.0\n"
   ]
  },
  {
   "cell_type": "code",
   "execution_count": 7,
   "metadata": {
    "collapsed": false
   },
   "outputs": [],
   "source": [
    "dartboard = np.zeros([341,341])\n",
    "\n",
    "r,theta = np.meshgrid(np.linspace(0,inner_bullseye_diam/2,inner_bullseye_diam*10/2),\n",
    "                      np.linspace(0,np.pi*2,inner_bullseye_diam*10/2))\n",
    "\n",
    "x,y = np.round(pol2cart(r,theta)).astype(int) + np.round(dartboard.shape[1]/2).astype(int)\n",
    "dartboard[x,y] = 50\n",
    "\n",
    "r,theta = np.meshgrid(np.linspace(inner_bullseye_diam/2,outer_bullseye_diam/2,100),\n",
    "                      np.linspace(0,np.pi*2,100))\n",
    "x,y = np.round(pol2cart(r,theta)).astype(int) + np.round(dartboard.shape[1]/2).astype(int)\n",
    "dartboard[x,y] = 25\n",
    "\n",
    "for i in np.arange(0,20):\n",
    "    r,theta = np.meshgrid(np.linspace(outer_bullseye_diam/2,outer_double_diam/2,1500),\n",
    "                          np.linspace(sectors[i],sectors[i+1],1500))\n",
    "    x,y = np.round(pol2cart(r,theta)).astype(int)+ np.round(dartboard.shape[1]/2).astype(int)\n",
    "    dartboard[x,y] = scores[i]\n",
    "    \n"
   ]
  },
  {
   "cell_type": "code",
   "execution_count": 8,
   "metadata": {
    "collapsed": false
   },
   "outputs": [],
   "source": [
    "\n",
    "r,theta = np.meshgrid(np.linspace(inner_triple_diam/2,outer_triple_diam/2,inner_triple_diam*10/2),\n",
    "                      np.linspace(0,np.pi*2,inner_triple_diam*10/2))\n",
    "\n",
    "x,y = np.round(pol2cart(r,theta)).astype(int) + np.round(dartboard.shape[1]/2).astype(int)\n",
    "dartboard[x,y] = dartboard[x,y]*3\n",
    "\n",
    "r,theta = np.meshgrid(np.linspace(inner_double_diam/2,outer_double_diam/2,1000),\n",
    "                      np.linspace(0,np.pi*2,1000))\n",
    "\n",
    "x,y = np.round(pol2cart(r,theta)).astype(int) + np.round(dartboard.shape[1]/2).astype(int)\n",
    "dartboard[x,y] = dartboard[x,y]*2"
   ]
  },
  {
   "cell_type": "code",
   "execution_count": null,
   "metadata": {
    "collapsed": true
   },
   "outputs": [],
   "source": []
  },
  {
   "cell_type": "code",
   "execution_count": null,
   "metadata": {
    "collapsed": true
   },
   "outputs": [],
   "source": []
  },
  {
   "cell_type": "code",
   "execution_count": 57,
   "metadata": {
    "collapsed": false
   },
   "outputs": [
    {
     "data": {
      "text/plain": [
       "array([[ 333.      ,  333.      ,  333.      , ...,  333.      ,\n",
       "         333.      ,  333.      ],\n",
       "       [ 333.006002,  333.006002,  333.006002, ...,  333.006002,\n",
       "         333.006002,  333.006002],\n",
       "       [ 333.012004,  333.012004,  333.012004, ...,  333.012004,\n",
       "         333.012004,  333.012004],\n",
       "       ..., \n",
       "       [ 350.987996,  350.987996,  350.987996, ...,  350.987996,\n",
       "         350.987996,  350.987996],\n",
       "       [ 350.993998,  350.993998,  350.993998, ...,  350.993998,\n",
       "         350.993998,  350.993998],\n",
       "       [ 351.      ,  351.      ,  351.      , ...,  351.      ,\n",
       "         351.      ,  351.      ]])"
      ]
     },
     "execution_count": 57,
     "metadata": {},
     "output_type": "execute_result"
    }
   ],
   "source": [
    "theta*180/np.pi\n"
   ]
  },
  {
   "cell_type": "code",
   "execution_count": null,
   "metadata": {
    "collapsed": true
   },
   "outputs": [],
   "source": []
  },
  {
   "cell_type": "code",
   "execution_count": null,
   "metadata": {
    "collapsed": false
   },
   "outputs": [],
   "source": [
    "\n",
    "\n",
    "##fig = plt.figure(figsize=(10,10))\n",
    "##axes = fig.add_subplot(111)\n",
    "plt.imshow(dartboard)\n",
    "plt.colorbar()\n",
    "plt.show()\n",
    "##dartboard[0:500,0:500] = 0\n",
    "##plt.imshow(dartboard2,alpha=.8)"
   ]
  },
  {
   "cell_type": "code",
   "execution_count": null,
   "metadata": {
    "collapsed": true
   },
   "outputs": [],
   "source": []
  },
  {
   "cell_type": "code",
   "execution_count": null,
   "metadata": {
    "collapsed": true
   },
   "outputs": [],
   "source": []
  },
  {
   "cell_type": "code",
   "execution_count": null,
   "metadata": {
    "collapsed": true
   },
   "outputs": [],
   "source": []
  },
  {
   "cell_type": "code",
   "execution_count": null,
   "metadata": {
    "collapsed": true
   },
   "outputs": [],
   "source": []
  },
  {
   "cell_type": "code",
   "execution_count": null,
   "metadata": {
    "collapsed": true
   },
   "outputs": [],
   "source": []
  },
  {
   "cell_type": "code",
   "execution_count": null,
   "metadata": {
    "collapsed": true
   },
   "outputs": [],
   "source": []
  },
  {
   "cell_type": "code",
   "execution_count": 93,
   "metadata": {
    "collapsed": true
   },
   "outputs": [],
   "source": [
    "dartboard[dartboard==0] = np.nan\n",
    "test = ga(dartboard,30)"
   ]
  },
  {
   "cell_type": "code",
   "execution_count": null,
   "metadata": {
    "collapsed": true
   },
   "outputs": [],
   "source": []
  },
  {
   "cell_type": "code",
   "execution_count": 94,
   "metadata": {
    "collapsed": false
   },
   "outputs": [
    {
     "data": {
      "text/plain": [
       "<matplotlib.image.AxesImage at 0x12b34bf10>"
      ]
     },
     "execution_count": 94,
     "metadata": {},
     "output_type": "execute_result"
    },
    {
     "data": {
      "image/png": "[encoded data removed]",
      "text/plain": [
       "<matplotlib.figure.Figure at 0x12b1c7d90>"
      ]
     },
     "metadata": {},
     "output_type": "display_data"
    }
   ],
   "source": [
    "fig = plt.figure(figsize=(10,10))\n",
    "axes = fig.add_subplot(111)\n",
    "axes.imshow(test)\n"
   ]
  },
  {
   "cell_type": "code",
   "execution_count": null,
   "metadata": {
    "collapsed": true
   },
   "outputs": [],
   "source": []
  },
  {
   "cell_type": "code",
   "execution_count": null,
   "metadata": {
    "collapsed": true
   },
   "outputs": [],
   "source": []
  }
 ],
 "metadata": {
  "anaconda-cloud": {},
  "kernelspec": {
   "display_name": "Python [Root]",
   "language": "python",
   "name": "Python [Root]"
  },
  "language_info": {
   "codemirror_mode": {
    "name": "ipython",
    "version": 2
   },
   "file_extension": ".py",
   "mimetype": "text/x-python",
   "name": "python",
   "nbconvert_exporter": "python",
   "pygments_lexer": "ipython2",
   "version": "2.7.12"
  }
 },
 "nbformat": 4,
 "nbformat_minor": 0
}
