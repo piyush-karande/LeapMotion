{
 "cells": [
  {
   "cell_type": "code",
   "execution_count": 1,
   "metadata": {
    "collapsed": false
   },
   "outputs": [
    {
     "name": "stderr",
     "output_type": "stream",
     "text": [
      "Vendor:  Continuum Analytics, Inc.\n",
      "Package: mkl\n",
      "Message: trial mode EXPIRED 177 days ago\n",
      "\n",
      "    Your usage of mkl is now out of compliance with the license agreement.\n",
      "    A license for mkl can be purchased at: http://continuum.io\n",
      "    \n"
     ]
    }
   ],
   "source": [
    "import numpy as np\n",
    "from scipy import ndimage\n",
    "\n",
    "import matplotlib.pyplot as plt\n",
    "\n",
    "from scipy.ndimage import gaussian_filter as ga"
   ]
  },
  {
   "cell_type": "code",
   "execution_count": 2,
   "metadata": {
    "collapsed": false
   },
   "outputs": [],
   "source": [
    "def pol2cart(r,theta):\n",
    "    temp = np.multiply(r,np.exp(np.multiply(1j,theta)))\n",
    "    return temp.real, temp.imag\n",
    "    \n",
    "def cart2pol(x,y):\n",
    "    r = np.sqrt(np.power(x,2) + np.power(y,2))\n",
    "    theta = np.arctan2(y, x)\n",
    "    return r, theta"
   ]
  },
  {
   "cell_type": "code",
   "execution_count": 3,
   "metadata": {
    "collapsed": false
   },
   "outputs": [],
   "source": [
    "scores = np.array([6,13,4,18,1,20,5,12,9,14,11,8,16,7,19,3,17,2,15,10])"
   ]
  },
  {
   "cell_type": "code",
   "execution_count": 9,
   "metadata": {
    "collapsed": false
   },
   "outputs": [],
   "source": [
    "sectors = np.arange(-np.pi/20, np.pi*2+np.pi/20, np.pi/10) + np.pi/2"
   ]
  },
  {
   "cell_type": "code",
   "execution_count": 10,
   "metadata": {
    "collapsed": false
   },
   "outputs": [],
   "source": [
    "inner_bullseye_diam = 12.7\n",
    "outer_bullseye_diam = 31.8\n",
    "\n",
    "inner_triple_diam = 194.8\n",
    "outer_triple_diam = 214.8\n",
    "\n",
    "inner_double_diam = 320.0\n",
    "outer_double_diam = 340.0\n"
   ]
  },
  {
   "cell_type": "code",
   "execution_count": 21,
   "metadata": {
    "collapsed": false
   },
   "outputs": [],
   "source": [
    "dartboard = np.zeros([341,341])\n",
    "\n",
    "r,theta = np.meshgrid(np.linspace(0,inner_bullseye_diam/2,inner_bullseye_diam*10/2),\n",
    "                      np.linspace(0,np.pi*2+.2,inner_bullseye_diam*10/2))\n",
    "\n",
    "x,y = np.round(pol2cart(r,theta)).astype(int) + np.round(dartboard.shape[1]/2).astype(int)\n",
    "dartboard[x,y] = 50\n",
    "\n",
    "r,theta = np.meshgrid(np.linspace(inner_bullseye_diam/2,outer_bullseye_diam/2,100),\n",
    "                      np.linspace(0,np.pi*2+.2,100))\n",
    "x,y = np.round(pol2cart(r,theta)).astype(int) + np.round(dartboard.shape[1]/2).astype(int)\n",
    "dartboard[x,y] = 25\n",
    "\n",
    "for i in np.arange(0,20):\n",
    "    r,theta = np.meshgrid(np.linspace(outer_bullseye_diam/2,outer_double_diam/2,1500),\n",
    "                          np.linspace(sectors[i],sectors[i+1],1500))\n",
    "    x,y = np.round(pol2cart(r,theta)).astype(int)+ np.round(dartboard.shape[1]/2).astype(int)\n",
    "    dartboard[x,y] = scores[i]\n",
    "    \n"
   ]
  },
  {
   "cell_type": "code",
   "execution_count": 22,
   "metadata": {
    "collapsed": false
   },
   "outputs": [],
   "source": [
    "\n",
    "r,theta = np.meshgrid(np.linspace(inner_triple_diam/2,outer_triple_diam/2,inner_triple_diam*10/2),\n",
    "                      np.linspace(0,np.pi*2+.2,inner_triple_diam*10/2))\n",
    "\n",
    "x,y = np.round(pol2cart(r,theta)).astype(int) + np.round(dartboard.shape[1]/2).astype(int)\n",
    "dartboard[x,y] = dartboard[x,y]*3\n",
    "\n",
    "r,theta = np.meshgrid(np.linspace(inner_double_diam/2,outer_double_diam/2,1500),\n",
    "                      np.linspace(0,np.pi*2+.2,1500))\n",
    "\n",
    "x,y = np.round(pol2cart(r,theta)).astype(int) + np.round(dartboard.shape[1]/2).astype(int)\n",
    "dartboard[x,y] = dartboard[x,y]*2"
   ]
  },
  {
   "cell_type": "code",
   "execution_count": null,
   "metadata": {
    "collapsed": true
   },
   "outputs": [],
   "source": []
  },
  {
   "cell_type": "code",
   "execution_count": null,
   "metadata": {
    "collapsed": true
   },
   "outputs": [],
   "source": []
  },
  {
   "cell_type": "code",
   "execution_count": 57,
   "metadata": {
    "collapsed": false
   },
   "outputs": [
    {
     "data": {
      "text/plain": [
       "array([[ 333.      ,  333.      ,  333.      , ...,  333.      ,\n",
       "         333.      ,  333.      ],\n",
       "       [ 333.006002,  333.006002,  333.006002, ...,  333.006002,\n",
       "         333.006002,  333.006002],\n",
       "       [ 333.012004,  333.012004,  333.012004, ...,  333.012004,\n",
       "         333.012004,  333.012004],\n",
       "       ..., \n",
       "       [ 350.987996,  350.987996,  350.987996, ...,  350.987996,\n",
       "         350.987996,  350.987996],\n",
       "       [ 350.993998,  350.993998,  350.993998, ...,  350.993998,\n",
       "         350.993998,  350.993998],\n",
       "       [ 351.      ,  351.      ,  351.      , ...,  351.      ,\n",
       "         351.      ,  351.      ]])"
      ]
     },
     "execution_count": 57,
     "metadata": {},
     "output_type": "execute_result"
    }
   ],
   "source": [
    "theta*180/np.pi\n"
   ]
  },
  {
   "cell_type": "code",
   "execution_count": null,
   "metadata": {
    "collapsed": true
   },
   "outputs": [],
   "source": []
  },
  {
   "cell_type": "code",
   "execution_count": 23,
   "metadata": {
    "collapsed": false
   },
   "outputs": [],
   "source": [
    "\n",
    "\n",
    "##fig = plt.figure(figsize=(10,10))\n",
    "##axes = fig.add_subplot(111)\n",
    "plt.imshow(dartboard)\n",
    "plt.colorbar()\n",
    "plt.show()\n",
    "##dartboard[0:500,0:500] = 0\n",
    "##plt.imshow(dartboard2,alpha=.8)"
   ]
  },
  {
   "cell_type": "code",
   "execution_count": null,
   "metadata": {
    "collapsed": true
   },
   "outputs": [],
   "source": []
  },
  {
   "cell_type": "code",
   "execution_count": null,
   "metadata": {
    "collapsed": true
   },
   "outputs": [],
   "source": []
  },
  {
   "cell_type": "code",
   "execution_count": null,
   "metadata": {
    "collapsed": true
   },
   "outputs": [],
   "source": []
  },
  {
   "cell_type": "code",
   "execution_count": null,
   "metadata": {
    "collapsed": true
   },
   "outputs": [],
   "source": []
  },
  {
   "cell_type": "code",
   "execution_count": null,
   "metadata": {
    "collapsed": true
   },
   "outputs": [],
   "source": []
  },
  {
   "cell_type": "code",
   "execution_count": null,
   "metadata": {
    "collapsed": true
   },
   "outputs": [],
   "source": []
  },
  {
   "cell_type": "code",
   "execution_count": 114,
   "metadata": {
    "collapsed": true
   },
   "outputs": [],
   "source": [
    "##dartboard[dartboard==0] = np.nan\n",
    "test = ga(dartboard,30,mode='constant')\n",
    "test[test<1.5] = np.nan"
   ]
  },
  {
   "cell_type": "code",
   "execution_count": 103,
   "metadata": {
    "collapsed": false
   },
   "outputs": [
    {
     "data": {
      "text/plain": [
       "0.1183044602955588"
      ]
     },
     "execution_count": 103,
     "metadata": {},
     "output_type": "execute_result"
    }
   ],
   "source": [
    "\n"
   ]
  },
  {
   "cell_type": "code",
   "execution_count": 96,
   "metadata": {
    "collapsed": false
   },
   "outputs": [],
   "source": [
    "fig = plt.figure(figsize=(10,10))\n",
    "axes = fig.add_subplot(111)\n",
    "axes.imshow(test)\n",
    "plt.show()"
   ]
  },
  {
   "cell_type": "code",
   "execution_count": 115,
   "metadata": {
    "collapsed": false
   },
   "outputs": [],
   "source": [
    "dat = plt.imread('dartboard.png')\n",
    "dat_small = dat[::4,::4,::1]\n",
    "h = plt.imshow(dat_small,extent=[0,730,0,730],origin='upper')\n",
    "h.axes.set_xlim(0,730)\n",
    "h.axes.set_ylim(0,730)\n",
    "g = plt.imshow(np.flipud(test),alpha=.7,origin='lower',extent=[140,590,140,590],cmap='nipy_spectral')\n",
    "plt.colorbar()\n",
    "plt.show()"
   ]
  },
  {
   "cell_type": "code",
   "execution_count": 56,
   "metadata": {
    "collapsed": false
   },
   "outputs": [],
   "source": [
    "dat_small = dat[::4,::4,::1]"
   ]
  },
  {
   "cell_type": "code",
   "execution_count": 85,
   "metadata": {
    "collapsed": false
   },
   "outputs": [
    {
     "data": {
      "text/plain": [
       "(341L, 341L)"
      ]
     },
     "execution_count": 85,
     "metadata": {},
     "output_type": "execute_result"
    }
   ],
   "source": [
    "test.shape\n"
   ]
  },
  {
   "cell_type": "code",
   "execution_count": null,
   "metadata": {
    "collapsed": true
   },
   "outputs": [],
   "source": []
  }
 ],
 "metadata": {
  "anaconda-cloud": {},
  "kernelspec": {
   "display_name": "Python 2",
   "language": "python",
   "name": "python2"
  },
  "language_info": {
   "codemirror_mode": {
    "name": "ipython",
    "version": 2
   },
   "file_extension": ".py",
   "mimetype": "text/x-python",
   "name": "python",
   "nbconvert_exporter": "python",
   "pygments_lexer": "ipython2",
   "version": "2.7.11"
  }
 },
 "nbformat": 4,
 "nbformat_minor": 0
}
