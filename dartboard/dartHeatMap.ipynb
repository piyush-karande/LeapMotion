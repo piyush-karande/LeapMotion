{
 "cells": [
  {
   "cell_type": "code",
   "execution_count": 1,
   "metadata": {
    "collapsed": false
   },
   "outputs": [],
   "source": [
    "import numpy as np\n",
    "\n",
    "import matplotlib.pyplot as plt\n",
    "\n",
    "from scipy.ndimage import gaussian_filter as ga"
   ]
  },
  {
   "cell_type": "code",
   "execution_count": 2,
   "metadata": {
    "collapsed": false
   },
   "outputs": [],
   "source": [
    "# Function to convert polar coordinates to cartesian\n",
    "def pol2cart(r,theta):\n",
    "    temp = np.multiply(r,np.exp(np.multiply(1j,theta)))\n",
    "    return temp.real, temp.imag"
   ]
  },
  {
   "cell_type": "code",
   "execution_count": 3,
   "metadata": {
    "collapsed": false
   },
   "outputs": [],
   "source": []
  },
  {
   "cell_type": "code",
   "execution_count": 4,
   "metadata": {
    "collapsed": false
   },
   "outputs": [],
   "source": []
  },
  {
   "cell_type": "code",
   "execution_count": 3,
   "metadata": {
    "collapsed": false
   },
   "outputs": [],
   "source": [
    "# Defining dartboard parameters\n",
    "\n",
    "scores = np.array([6,13,4,18,1,20,5,12,9,14,11,8,16,7,19,3,17,2,15,10])\n",
    "sectors = np.arange(-np.pi/20, np.pi*2+np.pi/20, np.pi/10) + np.pi/2\n",
    "\n",
    "inner_bullseye_diam = 12.7\n",
    "outer_bullseye_diam = 31.8\n",
    "\n",
    "inner_triple_diam = 194.8\n",
    "outer_triple_diam = 214.8\n",
    "\n",
    "inner_double_diam = 320.0\n",
    "outer_double_diam = 340.0\n"
   ]
  },
  {
   "cell_type": "code",
   "execution_count": 4,
   "metadata": {
    "collapsed": false
   },
   "outputs": [],
   "source": [
    "# Initializing dartboard as a matrix\n",
    "\n",
    "dartboard = np.zeros([341,341])\n",
    "\n",
    "# Setting the scores for inner bullseye\n",
    "r,theta = np.meshgrid(np.linspace(0,inner_bullseye_diam/2,inner_bullseye_diam*10/2),\n",
    "                      np.linspace(0,np.pi*2+.2,inner_bullseye_diam*10/2))\n",
    "\n",
    "x,y = np.round(pol2cart(r,theta)).astype(int) + np.round(dartboard.shape[1]/2).astype(int)\n",
    "dartboard[x,y] = 50\n",
    "\n",
    "# Setting the scores for inner bullseye\n",
    "r,theta = np.meshgrid(np.linspace(inner_bullseye_diam/2,outer_bullseye_diam/2,100),\n",
    "                      np.linspace(0,np.pi*2+.2,100))\n",
    "x,y = np.round(pol2cart(r,theta)).astype(int) + np.round(dartboard.shape[1]/2).astype(int)\n",
    "dartboard[x,y] = 25\n",
    "\n",
    "# Setting the scores for individual sectors\n",
    "for i in np.arange(0,20):\n",
    "    r,theta = np.meshgrid(np.linspace(outer_bullseye_diam/2,outer_double_diam/2,1500),\n",
    "                          np.linspace(sectors[i],sectors[i+1],1500))\n",
    "    x,y = np.round(pol2cart(r,theta)).astype(int)+ np.round(dartboard.shape[1]/2).astype(int)\n",
    "    dartboard[x,y] = scores[i]\n",
    "    \n"
   ]
  },
  {
   "cell_type": "code",
   "execution_count": 5,
   "metadata": {
    "collapsed": false
   },
   "outputs": [],
   "source": [
    "# Setting the scores for triple ring\n",
    "r,theta = np.meshgrid(np.linspace(inner_triple_diam/2,outer_triple_diam/2,inner_triple_diam*10/2),\n",
    "                      np.linspace(0,np.pi*2+.2,inner_triple_diam*10/2))\n",
    "\n",
    "x,y = np.round(pol2cart(r,theta)).astype(int) + np.round(dartboard.shape[1]/2).astype(int)\n",
    "dartboard[x,y] = dartboard[x,y]*3\n",
    "\n",
    "# Setting the scores for double ring\n",
    "r,theta = np.meshgrid(np.linspace(inner_double_diam/2,outer_double_diam/2,1500),\n",
    "                      np.linspace(0,np.pi*2+.2,1500))\n",
    "\n",
    "x,y = np.round(pol2cart(r,theta)).astype(int) + np.round(dartboard.shape[1]/2).astype(int)\n",
    "dartboard[x,y] = dartboard[x,y]*2"
   ]
  },
  {
   "cell_type": "code",
   "execution_count": 6,
   "metadata": {
    "collapsed": true
   },
   "outputs": [],
   "source": [
    "# Applying the Sperical Ditribution of dart throws \n",
    "# at each points with standard deviation 30mm\n",
    "heatmap = ga(dartboard,30,mode='constant')\n",
    "\n",
    "# Ignoring small values outside the dartboard\n",
    "heatmap[heatmap<1.5] = np.nan\n"
   ]
  },
  {
   "cell_type": "code",
   "execution_count": null,
   "metadata": {
    "collapsed": true
   },
   "outputs": [],
   "source": []
  },
  {
   "cell_type": "code",
   "execution_count": 7,
   "metadata": {
    "collapsed": false
   },
   "outputs": [],
   "source": [
    "dat = plt.imread('dartboard.png')\n",
    "dat_small = dat[::4,::4,::1]\n",
    "h = plt.imshow(dat_small,extent=[0,730,0,730],origin='upper')\n",
    "h.axes.set_xlim(0,730)\n",
    "h.axes.set_ylim(0,730)\n",
    "g = plt.imshow(np.flipud(heatmap),alpha=.7,origin='lower',extent=[140,590,140,590],cmap='nipy_spectral')\n",
    "plt.colorbar()\n",
    "plt.show()"
   ]
  },
  {
   "cell_type": "code",
   "execution_count": null,
   "metadata": {
    "collapsed": true
   },
   "outputs": [],
   "source": []
  }
 ],
 "metadata": {
  "anaconda-cloud": {},
  "kernelspec": {
   "display_name": "Python [Root]",
   "language": "python",
   "name": "Python [Root]"
  },
  "language_info": {
   "codemirror_mode": {
    "name": "ipython",
    "version": 2
   },
   "file_extension": ".py",
   "mimetype": "text/x-python",
   "name": "python",
   "nbconvert_exporter": "python",
   "pygments_lexer": "ipython2",
   "version": "2.7.12"
  }
 },
 "nbformat": 4,
 "nbformat_minor": 0
}
